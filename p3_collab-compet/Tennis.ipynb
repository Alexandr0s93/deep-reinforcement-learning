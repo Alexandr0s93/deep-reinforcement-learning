{
 "cells": [
  {
   "cell_type": "markdown",
   "metadata": {},
   "source": [
    "# Collaboration and Competition\n",
    "\n",
    "---\n",
    "\n",
    "In this notebook, you will learn how to use the Unity ML-Agents environment for the third project of the [Deep Reinforcement Learning Nanodegree](https://www.udacity.com/course/deep-reinforcement-learning-nanodegree--nd893) program.\n",
    "\n",
    "We begin by importing the necessary packages.  If the code cell below returns an error, please revisit the project instructions to double-check that you have installed [Unity ML-Agents](https://github.com/Unity-Technologies/ml-agents/blob/master/docs/Installation.md) and [NumPy](http://www.numpy.org/)."
   ]
  },
  {
   "cell_type": "code",
   "execution_count": 1,
   "metadata": {},
   "outputs": [],
   "source": [
    "from unityagents import UnityEnvironment\n",
    "from collections import deque\n",
    "from maddpg_agent import MADDPG\n",
    "\n",
    "import torch\n",
    "import numpy as np\n",
    "import matplotlib.pyplot as plt\n",
    "%matplotlib inline\n",
    "\n",
    "TARGET_SCORE = 0.5"
   ]
  },
  {
   "cell_type": "markdown",
   "metadata": {},
   "source": [
    "# Training Function\n",
    "\n",
    "The function is used to train the Agents by interacting with environment and returns the training score. The training is considered to be completed once the Agents achieve a **max average score > 0.5 over 100 episodes**."
   ]
  },
  {
   "cell_type": "code",
   "execution_count": 2,
   "metadata": {},
   "outputs": [],
   "source": [
    "def train_agents(n_episodes=5000, num_agents = 2, noise = 2.0, noise_min = 0.01, noise_decay = 0.999):\n",
    "    scores_deque = deque(maxlen=100)\n",
    "    scores = []\n",
    "    avg_scores_l = []\n",
    "\n",
    "    for i_episode in range(1, n_episodes+1):                                    \n",
    "        env_info = env.reset(train_mode=True)[brain_name]     \n",
    "        states = env_info.vector_observations               \n",
    "        score = np.zeros(num_agents)\n",
    "\n",
    "        maddpg_agent.reset()\n",
    "\n",
    "        while True:\n",
    "            actions = maddpg_agent.act(states, noise_factor = noise)\n",
    "            env_info = env.step(actions)[brain_name]            \n",
    "            next_states = env_info.vector_observations\n",
    "            rewards = env_info.rewards         \n",
    "            dones = env_info.local_done                         \n",
    "            maddpg_agent.step(states, actions, rewards, next_states, dones)        \n",
    "            states = next_states\n",
    "            score += rewards  \n",
    "\n",
    "            if any(dones):                                 \n",
    "                break\n",
    "        \n",
    "        noise = max(noise_decay*noise, noise_min)                    # Decay Noise per Episode\n",
    "        \n",
    "        score_max = np.max(score)\n",
    "        scores.append(score_max)\n",
    "        scores_deque.append(score_max)\n",
    "        avg_score = np.mean(scores_deque)\n",
    "        avg_scores_l.append(avg_score)\n",
    "\n",
    "        print('\\rEpisode {}\\tAverage Score: {:.3f}'.format(i_episode, np.mean(scores_deque)), end=\"\")  \n",
    "\n",
    "        if i_episode % 100 == 0:\n",
    "            print('\\rEpisode {}\\tAverage score: {:.3f}'.format(i_episode , avg_score))\n",
    "\n",
    "        if avg_score >= TARGET_SCORE:\n",
    "            maddpg_agent.save_weights()\n",
    "            print(\"\\rSolved in episode: {} \\tAverage score: {:.3f}\".format(i_episode , avg_score))\n",
    "            break\n",
    "    return scores , avg_scores_l"
   ]
  },
  {
   "cell_type": "markdown",
   "metadata": {},
   "source": [
    "### 1. Start the Environment\n",
    "\n",
    "Next, we will start the environment!  **_Before running the code cell below_**, change the `file_name` parameter to match the location of the Unity environment that you downloaded.\n",
    "\n",
    "- **Mac**: `\"path/to/Tennis.app\"`\n",
    "- **Windows** (x86): `\"path/to/Tennis_Windows_x86/Tennis.exe\"`\n",
    "- **Windows** (x86_64): `\"path/to/Tennis_Windows_x86_64/Tennis.exe\"`\n",
    "- **Linux** (x86): `\"path/to/Tennis_Linux/Tennis.x86\"`\n",
    "- **Linux** (x86_64): `\"path/to/Tennis_Linux/Tennis.x86_64\"`\n",
    "- **Linux** (x86, headless): `\"path/to/Tennis_Linux_NoVis/Tennis.x86\"`\n",
    "- **Linux** (x86_64, headless): `\"path/to/Tennis_Linux_NoVis/Tennis.x86_64\"`\n",
    "\n",
    "For instance, if you are using a Mac, then you downloaded `Tennis.app`.  If this file is in the same folder as the notebook, then the line below should appear as follows:\n",
    "```\n",
    "env = UnityEnvironment(file_name=\"Tennis.app\")\n",
    "```"
   ]
  },
  {
   "cell_type": "code",
   "execution_count": 3,
   "metadata": {},
   "outputs": [
    {
     "name": "stderr",
     "output_type": "stream",
     "text": [
      "INFO:unityagents:\n",
      "'Academy' started successfully!\n",
      "Unity Academy name: Academy\n",
      "        Number of Brains: 1\n",
      "        Number of External Brains : 1\n",
      "        Lesson number : 0\n",
      "        Reset Parameters :\n",
      "\t\t\n",
      "Unity brain name: TennisBrain\n",
      "        Number of Visual Observations (per agent): 0\n",
      "        Vector Observation space type: continuous\n",
      "        Vector Observation space size (per agent): 8\n",
      "        Number of stacked Vector Observation: 3\n",
      "        Vector Action space type: continuous\n",
      "        Vector Action space size (per agent): 2\n",
      "        Vector Action descriptions: , \n"
     ]
    }
   ],
   "source": [
    "env = UnityEnvironment(file_name=\"Tennis.app\")"
   ]
  },
  {
   "cell_type": "markdown",
   "metadata": {},
   "source": [
    "Environments contain **_brains_** which are responsible for deciding the actions of their associated agents. Here we check for the first brain available, and set it as the default brain we will be controlling from Python."
   ]
  },
  {
   "cell_type": "code",
   "execution_count": 4,
   "metadata": {},
   "outputs": [],
   "source": [
    "# get the default brain\n",
    "brain_name = env.brain_names[0]\n",
    "brain = env.brains[brain_name]"
   ]
  },
  {
   "cell_type": "markdown",
   "metadata": {},
   "source": [
    "### 2. Examine the State and Action Spaces\n",
    "\n",
    "In this environment, two agents control rackets to bounce a ball over a net. If an agent hits the ball over the net, it receives a reward of +0.1.  If an agent lets a ball hit the ground or hits the ball out of bounds, it receives a reward of -0.01.  Thus, the goal of each agent is to keep the ball in play.\n",
    "\n",
    "The observation space consists of 8 variables corresponding to the position and velocity of the ball and racket. Two continuous actions are available, corresponding to movement toward (or away from) the net, and jumping. \n",
    "\n",
    "Run the code cell below to print some information about the environment."
   ]
  },
  {
   "cell_type": "code",
   "execution_count": 5,
   "metadata": {},
   "outputs": [
    {
     "name": "stdout",
     "output_type": "stream",
     "text": [
      "Number of agents: 2\n",
      "Size of each action: 2\n",
      "There are 2 agents. Each observes a state with length: 24\n",
      "The state for the first agent looks like: [ 0.          0.          0.          0.          0.          0.          0.\n",
      "  0.          0.          0.          0.          0.          0.          0.\n",
      "  0.          0.         -6.65278625 -1.5        -0.          0.\n",
      "  6.83172083  6.         -0.          0.        ]\n"
     ]
    }
   ],
   "source": [
    "# reset the environment\n",
    "env_info = env.reset(train_mode=True)[brain_name]\n",
    "\n",
    "# number of agents \n",
    "num_agents = len(env_info.agents)\n",
    "print('Number of agents:', num_agents)\n",
    "\n",
    "# size of each action\n",
    "action_size = brain.vector_action_space_size\n",
    "print('Size of each action:', action_size)\n",
    "\n",
    "# examine the state space \n",
    "states = env_info.vector_observations\n",
    "state_size = states.shape[1]\n",
    "print('There are {} agents. Each observes a state with length: {}'.format(states.shape[0], state_size))\n",
    "print('The state for the first agent looks like:', states[0])"
   ]
  },
  {
   "cell_type": "markdown",
   "metadata": {},
   "source": [
    "### 3. Train the Agent\n",
    "\n",
    "The cell trains the DQN Agent by utilizing Multi-Agent (2) approach wtih **DDPG Algorithm** that contains the following components:\n",
    "\n",
    "- Replay Buffer\n",
    "- Ornstein-Uhlenbeck Process\n",
    "\n",
    "After the cell is executed, the Agents are trained and the scores of the training are being return for plotting."
   ]
  },
  {
   "cell_type": "code",
   "execution_count": 6,
   "metadata": {},
   "outputs": [
    {
     "name": "stdout",
     "output_type": "stream",
     "text": [
      "Actor(\n",
      "  (fc1): Linear(in_features=24, out_features=200, bias=True)\n",
      "  (fc2): Linear(in_features=200, out_features=150, bias=True)\n",
      "  (output): Linear(in_features=150, out_features=2, bias=True)\n",
      ")\n",
      "\n",
      "\n",
      "Critic(\n",
      "  (fc1): Linear(in_features=52, out_features=200, bias=True)\n",
      "  (fc2): Linear(in_features=200, out_features=150, bias=True)\n",
      "  (output): Linear(in_features=150, out_features=1, bias=True)\n",
      ")\n",
      "\n",
      "\n",
      "Training Starts\n",
      "===============\n",
      "Episode 100\tAverage score: 0.001\n",
      "Episode 200\tAverage score: 0.003\n",
      "Episode 300\tAverage score: 0.001\n",
      "Episode 400\tAverage score: 0.008\n",
      "Episode 500\tAverage score: 0.034\n",
      "Episode 600\tAverage score: 0.063\n",
      "Episode 700\tAverage score: 0.040\n",
      "Episode 800\tAverage score: 0.107\n",
      "Episode 900\tAverage score: 0.280\n",
      "Solved in episode: 941 \tAverage score: 0.505\n"
     ]
    }
   ],
   "source": [
    "maddpg_agent = MADDPG(state_size, action_size, num_agents = 2, seed = 0)\n",
    "\n",
    "print(maddpg_agent.agents[0].actor_local)\n",
    "print('\\n')\n",
    "print(maddpg_agent.agents[0].critic_local)\n",
    "print('\\n')\n",
    "print('Training Starts')\n",
    "print('===============')\n",
    "\n",
    "scores, avg_scores = train_agents()"
   ]
  },
  {
   "cell_type": "markdown",
   "metadata": {},
   "source": [
    "### 4. Plot Agent Scores\n",
    "\n",
    "The cell below plot the **Scores** and the **Average Scores** that Agent achieved per Episode during training."
   ]
  },
  {
   "cell_type": "code",
   "execution_count": 18,
   "metadata": {},
   "outputs": [
    {
     "data": {
      "image/png": "[encoded data removed]",
      "text/plain": [
       "<matplotlib.figure.Figure at 0x7fdb3eca9b38>"
      ]
     },
     "metadata": {
      "needs_background": "light"
     },
     "output_type": "display_data"
    }
   ],
   "source": [
    "target = [TARGET_SCORE] * len(scores)           # Line for Target\n",
    "\n",
    "# Plot Agents Scores\n",
    "fig = plt.figure(figsize=(15,8))\n",
    "fig.suptitle('Agents Scores', fontsize='x-large')\n",
    "\n",
    "ax = fig.add_subplot(111)\n",
    "ax.plot(scores, label='Agents Max Score', color='tab:purple')\n",
    "ax.plot(avg_scores, label='Agents Average Score', color='tab:cyan', linewidth=2)\n",
    "ax.plot(target, linestyle='--', color='tab:grey', linewidth=1 )\n",
    "ax.text(0, TARGET_SCORE+0.1, 'Target', color='tab:grey', fontsize='large')\n",
    "ax.set_ylabel('Score')\n",
    "ax.set_xlabel('Episode #')\n",
    "ax.legend(fontsize='medium', loc='upper left')\n",
    "\n",
    "plt.show()"
   ]
  },
  {
   "cell_type": "markdown",
   "metadata": {},
   "source": [
    "When finished, you can close the environment."
   ]
  },
  {
   "cell_type": "code",
   "execution_count": 6,
   "metadata": {},
   "outputs": [],
   "source": [
    "env.close()"
   ]
  },
  {
   "cell_type": "markdown",
   "metadata": {
    "scrolled": true
   },
   "source": [
    "# Test the Trained Agent"
   ]
  },
  {
   "cell_type": "code",
   "execution_count": 5,
   "metadata": {},
   "outputs": [
    {
     "name": "stdout",
     "output_type": "stream",
     "text": [
      "Score for Episode 1: 0.10\n",
      "Score for Episode 2: 2.70\n"
     ]
    }
   ],
   "source": [
    "# Test if Environment is Active\n",
    "try:\n",
    "    env\n",
    "except:\n",
    "    env = UnityEnvironment(file_name='Tennis.app')\n",
    "    brain_name = env.brain_names[0]\n",
    "    brain = env.brains[brain_name]\n",
    "    env_info = env.reset(train_mode=False)[brain_name]\n",
    "    states = env_info.vector_observations\n",
    "    state_size = states.shape[1]\n",
    "    action_size = brain.vector_action_space_size\n",
    "    num_agents = len(env_info.agents)\n",
    "    \n",
    "# Initiate MADDPG\n",
    "maddpg_agent = MADDPG(state_size, action_size, num_agents = 2, seed = 0)\n",
    "\n",
    "# Load Agent 1\n",
    "maddpg_agent.agents[0].actor_local.load_state_dict(torch.load('weights/agent1_checkpoint_actor.pth',\n",
    "                                                              map_location='cpu'))\n",
    "maddpg_agent.agents[0].critic_local.load_state_dict(torch.load('weights/agent1_checkpoint_critic.pth',\n",
    "                                                               map_location='cpu'))\n",
    "\n",
    "# Load Agent 1\n",
    "maddpg_agent.agents[1].actor_local.load_state_dict(torch.load('weights/agent2_checkpoint_actor.pth',\n",
    "                                                              map_location='cpu'))\n",
    "maddpg_agent.agents[1].critic_local.load_state_dict(torch.load('weights/agent2_checkpoint_critic.pth',\n",
    "                                                               map_location='cpu'))\n",
    "                          \n",
    "# Observe Trained Agent in Environment\n",
    "obs_episodes = 2\n",
    "scores_episode = np.zeros(num_agents)\n",
    "for ep in range(1, obs_episodes + 1):\n",
    "    while True:\n",
    "        actions = maddpg_agent.act(states, add_noise=False)\n",
    "        env_info = env.step(actions)[brain_name]\n",
    "        states = env_info.vector_observations\n",
    "        rewards = env_info.rewards\n",
    "        dones = env_info.local_done\n",
    "        scores_episode += rewards\n",
    "        \n",
    "        if np.any(dones):\n",
    "            break\n",
    "\n",
    "    print('Score for Episode {}: {:.2f}'.format(ep, scores_episode.mean()))"
   ]
  },
  {
   "cell_type": "code",
   "execution_count": null,
   "metadata": {},
   "outputs": [],
   "source": []
  }
 ],
 "metadata": {
  "kernelspec": {
   "display_name": "Python [conda env:udacity_drl]",
   "language": "python",
   "name": "conda-env-udacity_drl-py"
  },
  "language_info": {
   "codemirror_mode": {
    "name": "ipython",
    "version": 3
   },
   "file_extension": ".py",
   "mimetype": "text/x-python",
   "name": "python",
   "nbconvert_exporter": "python",
   "pygments_lexer": "ipython3",
   "version": "3.6.12"
  }
 },
 "nbformat": 4,
 "nbformat_minor": 2
}
