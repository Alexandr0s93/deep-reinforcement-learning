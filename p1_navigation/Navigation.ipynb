{
 "cells": [
  {
   "cell_type": "markdown",
   "metadata": {},
   "source": [
    "# Navigation\n",
    "\n",
    "---\n",
    "\n",
    "In this notebook, you will learn how to use the Unity ML-Agents environment for the first project of the [Deep Reinforcement Learning Nanodegree](https://www.udacity.com/course/deep-reinforcement-learning-nanodegree--nd893)."
   ]
  },
  {
   "cell_type": "code",
   "execution_count": 1,
   "metadata": {},
   "outputs": [],
   "source": [
    "from collections import deque, namedtuple\n",
    "from unityagents import UnityEnvironment\n",
    "from dqn_agent import Agent\n",
    "import numpy as np\n",
    "\n",
    "import torch\n",
    "\n",
    "import matplotlib.pyplot as plt\n",
    "%matplotlib inline"
   ]
  },
  {
   "cell_type": "markdown",
   "metadata": {},
   "source": [
    "# Training Function\n",
    "\n",
    "The function is used to train the Agent by interacting with environment and returns the training score. The training is considered to be completed once the Agent achieves a **score > 13.0**."
   ]
  },
  {
   "cell_type": "code",
   "execution_count": 2,
   "metadata": {},
   "outputs": [],
   "source": [
    "def train_dqn(n_episodes=2000, max_t=1000, eps_start=1., eps_end=0.01, eps_decay=0.99):\n",
    "    \"\"\"Deep Q-Learning.\n",
    "    \n",
    "    Params\n",
    "    ======\n",
    "        n_episodes (int): maximum number of training episodes\n",
    "        max_t (int): maximum number of timesteps per episode\n",
    "        eps_start (float): starting value of epsilon, for epsilon-greedy action selection\n",
    "        eps_end (float): minimum value of epsilon\n",
    "        eps_decay (float): multiplicative factor (per episode) for decreasing epsilon\n",
    "    \"\"\"\n",
    "    scores = []                        # list containing scores from each episode\n",
    "    avg_scores = []                    # list containing average scores\n",
    "    std_scores = []                    # list containing std scores\n",
    "    scores_window = deque(maxlen=100)  # last 100 scores\n",
    "    \n",
    "    eps = eps_start                    # initialize epsilon\n",
    "    \n",
    "    for i_episode in range(1, n_episodes+1):\n",
    "        state = env.reset(train_mode=True)[brain_name].vector_observations[0]\n",
    "        score = 0\n",
    "        for t in range(max_t):\n",
    "            action = agent.act(state, eps)                      # Choose Action based on State\n",
    "            env_info = env.step(action)[brain_name]             # Send Action to Environment\n",
    "            next_state = env_info.vector_observations[0]        # Get the Next State\n",
    "            reward = env_info.rewards[0]                        # Get the Reward\n",
    "            done = env_info.local_done[0]                       # Identify if Terminal State is reached\n",
    "            agent.step(state, action, reward, next_state, done) # Incorporate Environment Feedback to Agent\n",
    "            state = next_state\n",
    "            score += reward\n",
    "            if done:\n",
    "                break\n",
    "                \n",
    "        scores_window.append(score)                 # Save score to Last-100 List\n",
    "        scores.append(score)                        # Save score from episode\n",
    "        avg_scores.append(np.mean(scores_window))   # Save Average Scores\n",
    "        std_scores.append(np.std(scores_window))    # Save Average Scores\n",
    "        \n",
    "        eps = max(eps_end, eps_decay*eps) # decrease epsilon\n",
    "        \n",
    "        print('\\rEpisode {}\\tAverage Score: {:.2f}'.format(i_episode, np.mean(scores_window)), end=\"\")\n",
    "        if i_episode % 100 == 0:\n",
    "            print('\\rEpisode {}\\tAverage Score: {:.2f}'.format(i_episode, np.mean(scores_window)))\n",
    "        if np.mean(scores_window)>=13.0:\n",
    "            print('\\nEnvironment solved in {:d} episodes!\\tAverage Score: {:.2f}'.format(i_episode-100,\n",
    "                                                                                         np.mean(scores_window)))\n",
    "            torch.save(agent.qnetwork_local.state_dict(), 'checkpoint.pth')\n",
    "            break\n",
    "    return scores, avg_scores, std_scores"
   ]
  },
  {
   "cell_type": "markdown",
   "metadata": {},
   "source": [
    "### 1. Start the Environment\n",
    "\n",
    "We begin by importing some necessary packages.  If the code cell below returns an error, please revisit the project instructions to double-check that you have installed [Unity ML-Agents](https://github.com/Unity-Technologies/ml-agents/blob/master/docs/Installation.md) and [NumPy](http://www.numpy.org/).\n",
    "\n",
    "Next, we will start the environment!  **_Before running the code cell below_**, change the `file_name` parameter to match the location of the Unity environment that you downloaded.\n",
    "\n",
    "- **Mac**: `\"path/to/Banana.app\"`\n",
    "- **Windows** (x86): `\"path/to/Banana_Windows_x86/Banana.exe\"`\n",
    "- **Windows** (x86_64): `\"path/to/Banana_Windows_x86_64/Banana.exe\"`\n",
    "- **Linux** (x86): `\"path/to/Banana_Linux/Banana.x86\"`\n",
    "- **Linux** (x86_64): `\"path/to/Banana_Linux/Banana.x86_64\"`\n",
    "- **Linux** (x86, headless): `\"path/to/Banana_Linux_NoVis/Banana.x86\"`\n",
    "- **Linux** (x86_64, headless): `\"path/to/Banana_Linux_NoVis/Banana.x86_64\"`\n",
    "\n",
    "For instance, if you are using a Mac, then you downloaded `Banana.app`.  If this file is in the same folder as the notebook, then the line below should appear as follows:\n",
    "```\n",
    "env = UnityEnvironment(file_name=\"Banana.app\")\n",
    "```"
   ]
  },
  {
   "cell_type": "code",
   "execution_count": 2,
   "metadata": {},
   "outputs": [
    {
     "name": "stderr",
     "output_type": "stream",
     "text": [
      "INFO:unityagents:\n",
      "'Academy' started successfully!\n",
      "Unity Academy name: Academy\n",
      "        Number of Brains: 1\n",
      "        Number of External Brains : 1\n",
      "        Lesson number : 0\n",
      "        Reset Parameters :\n",
      "\t\t\n",
      "Unity brain name: BananaBrain\n",
      "        Number of Visual Observations (per agent): 0\n",
      "        Vector Observation space type: continuous\n",
      "        Vector Observation space size (per agent): 37\n",
      "        Number of stacked Vector Observation: 1\n",
      "        Vector Action space type: discrete\n",
      "        Vector Action space size (per agent): 4\n",
      "        Vector Action descriptions: , , , \n"
     ]
    }
   ],
   "source": [
    "env = UnityEnvironment(file_name=\"Banana.app\")"
   ]
  },
  {
   "cell_type": "markdown",
   "metadata": {},
   "source": [
    "Environments contain **_brains_** which are responsible for deciding the actions of their associated agents. Here we check for the first brain available, and set it as the default brain we will be controlling from Python."
   ]
  },
  {
   "cell_type": "code",
   "execution_count": 4,
   "metadata": {},
   "outputs": [],
   "source": [
    "# Get the Default Brain\n",
    "brain_name = env.brain_names[0]\n",
    "brain = env.brains[brain_name]"
   ]
  },
  {
   "cell_type": "markdown",
   "metadata": {},
   "source": [
    "### 2. Examine the State and Action Spaces\n",
    "\n",
    "The simulation contains a single agent that navigates a large environment.  At each time step, it has four actions at its disposal:\n",
    "- `0` - walk forward \n",
    "- `1` - walk backward\n",
    "- `2` - turn left\n",
    "- `3` - turn right\n",
    "\n",
    "The state space has `37` dimensions and contains the agent's velocity, along with ray-based perception of objects around agent's forward direction.  A reward of `+1` is provided for collecting a yellow banana, and a reward of `-1` is provided for collecting a blue banana. \n",
    "\n",
    "Run the code cell below to print some information about the environment."
   ]
  },
  {
   "cell_type": "code",
   "execution_count": 5,
   "metadata": {},
   "outputs": [
    {
     "name": "stdout",
     "output_type": "stream",
     "text": [
      "Number of agents: 1\n",
      "Number of actions: 4\n",
      "States look like: [1.         0.         0.         0.         0.84408134 0.\n",
      " 0.         1.         0.         0.0748472  0.         1.\n",
      " 0.         0.         0.25755    1.         0.         0.\n",
      " 0.         0.74177343 0.         1.         0.         0.\n",
      " 0.25854847 0.         0.         1.         0.         0.09355672\n",
      " 0.         1.         0.         0.         0.31969345 0.\n",
      " 0.        ]\n",
      "States have length: 37\n"
     ]
    }
   ],
   "source": [
    "# Reset the Environment\n",
    "env_info = env.reset(train_mode=True)[brain_name]\n",
    "\n",
    "# Number of Agents in the Environment\n",
    "print('Number of agents:', len(env_info.agents))\n",
    "\n",
    "# Number of Actions\n",
    "action_size = brain.vector_action_space_size\n",
    "print('Number of actions:', action_size)\n",
    "\n",
    "# Examine the State Space \n",
    "state = env_info.vector_observations[0]\n",
    "print('States look like:', state)\n",
    "state_size = len(state)\n",
    "print('States have length:', state_size)"
   ]
  },
  {
   "cell_type": "markdown",
   "metadata": {},
   "source": [
    "### 3. Train the Agent\n",
    "\n",
    "The cell trains the DQN Agent by utilizing a **RainbowDQN** that contains the following techniques:\n",
    "\n",
    "- Double DQN\n",
    "- Duel DQN\n",
    "- Prioritized Experience Replay\n",
    "\n",
    "After the cell is executed, the Agent is trained and the scores of the training are being return for plotting."
   ]
  },
  {
   "cell_type": "code",
   "execution_count": 6,
   "metadata": {},
   "outputs": [
    {
     "name": "stdout",
     "output_type": "stream",
     "text": [
      "Episode 100\tAverage Score: 1.85\n",
      "Episode 200\tAverage Score: 8.98\n",
      "Episode 300\tAverage Score: 11.84\n",
      "Episode 332\tAverage Score: 13.02\n",
      "Environment solved in 232 episodes!\tAverage Score: 13.02\n"
     ]
    }
   ],
   "source": [
    "# Initialize Deep Q-Network Agent\n",
    "agent = Agent(state_size = state_size, action_size = action_size, seed = 0,\n",
    "              double_dqn = True, duel_dqn = True, prio_exp = True)\n",
    "\n",
    "scores, avg_scores, std_scores = train_dqn(n_episodes = 600)"
   ]
  },
  {
   "cell_type": "markdown",
   "metadata": {},
   "source": [
    "### 4. Plot Agent Scores\n",
    "\n",
    "The cell below plot the **Scores** and the **Average Scores** that Agent achieved per Episode during training."
   ]
  },
  {
   "cell_type": "code",
   "execution_count": 18,
   "metadata": {},
   "outputs": [
    {
     "data": {
      "image/png": "[encoded data removed]",
      "text/plain": [
       "<Figure size 864x360 with 2 Axes>"
      ]
     },
     "metadata": {
      "needs_background": "light"
     },
     "output_type": "display_data"
    }
   ],
   "source": [
    "# Transform to Array\n",
    "scores = np.array(scores)\n",
    "avg_scores = np.array(avg_scores)\n",
    "std_scores = np.array(std_scores)\n",
    "\n",
    "# Initiate Figure\n",
    "f, (ax1, ax2) = plt.subplots(1, 2, figsize=(12, 5), sharex=True, sharey=True)\n",
    "\n",
    "# Plot Agent Scores\n",
    "ax1.plot(np.arange(len(scores)), scores, color = 'tab:purple')\n",
    "ax1.set_ylabel('Score')\n",
    "ax1.set_xlabel('Episode #')\n",
    "ax1.set_title('DQN Agent Scores')\n",
    "\n",
    "ax2.plot(np.arange(len(avg_scores)), avg_scores, color = 'tab:purple')\n",
    "ax2.fill_between(np.arange(len(avg_scores)), avg_scores+std_scores, avg_scores-std_scores,\n",
    "                 facecolor='gray', alpha=0.1)\n",
    "ax2.set_ylabel('AVG Score')\n",
    "ax2.set_xlabel('Episode #')\n",
    "ax2.set_title('DQN Agent Average Scores')\n",
    "\n",
    "f.tight_layout()"
   ]
  },
  {
   "cell_type": "code",
   "execution_count": 6,
   "metadata": {},
   "outputs": [],
   "source": [
    "env.close()"
   ]
  },
  {
   "cell_type": "markdown",
   "metadata": {},
   "source": [
    "When finished, you can close the environment."
   ]
  },
  {
   "cell_type": "markdown",
   "metadata": {},
   "source": [
    "# Test the Trained Agent"
   ]
  },
  {
   "cell_type": "code",
   "execution_count": 5,
   "metadata": {},
   "outputs": [
    {
     "name": "stdout",
     "output_type": "stream",
     "text": [
      "Episode 1\\Score: 14.00\n",
      "Episode 2\\Score: 1.00\n",
      "Episode 3\\Score: 13.00\n",
      "Episode 4\\Score: 18.00\n",
      "Episode 5\\Score: 13.00\n",
      "Episode 6\\Score: 16.00\n",
      "Episode 7\\Score: 0.00\n",
      "Episode 8\\Score: 18.00\n",
      "Episode 9\\Score: 15.00\n",
      "Episode 10\\Score: 16.00\n"
     ]
    }
   ],
   "source": [
    "# Check if the Environment is Active\n",
    "try:\n",
    "    env\n",
    "except:\n",
    "    UnityEnvironment(file_name=\"Banana.app\")\n",
    "\n",
    "# Get the Default Brain\n",
    "brain_name = env.brain_names[0]\n",
    "brain = env.brains[brain_name]\n",
    "\n",
    "# Reset Environment & Deactivate Training\n",
    "env_info = env.reset(train_mode=False)[brain_name]\n",
    "action_size = brain.vector_action_space_size\n",
    "state = env_info.vector_observations[0]\n",
    "state_size = len(state)\n",
    "\n",
    "# Initialize the DQN Agent\n",
    "agent = Agent(state_size=state_size, action_size=action_size, seed=0,\n",
    "             double_dqn = True, duel_dqn = True, prio_exp = True)\n",
    "\n",
    "# Load the Trained model\n",
    "state_dict = torch.load('checkpoint.pth')\n",
    "agent.qnetwork_local.load_state_dict(state_dict)\n",
    "agent.qnetwork_local.eval()\n",
    "\n",
    "n_episodes = 10        # Number of episodes in the test\n",
    "max_t = 1000           # Number of max timesteps per episode in the test\n",
    "agent_scores = []      # List to store Agent's Scores\n",
    "agent_avg_scores = []  # List to store Agent's Average Scores\n",
    "\n",
    "# Interact Agent with the Enviornment\n",
    "for i_episode in range(1, n_episodes+1):\n",
    "    state = env.reset(train_mode=False)[brain_name].vector_observations[0]\n",
    "    score = 0\n",
    "    for t in range(max_t):\n",
    "        action = agent.act(state)\n",
    "        env_info = env.step(action)[brain_name]        # Send Action to the Environment\n",
    "        next_state = env_info.vector_observations[0]   # Get the Next State\n",
    "        reward = env_info.rewards[0]                   # Get the Reward\n",
    "        done = env_info.local_done[0]                  # See if episode has Finished\n",
    "        state = next_state\n",
    "        score += reward\n",
    "        print('\\rEpisode {}\\Score: {:.2f}'.format(i_episode, score), end=\"\")\n",
    "        if done:\n",
    "            break \n",
    "\n",
    "    agent_scores.append(score)\n",
    "    agent_avg_scores.append(np.mean(score))\n",
    "\n",
    "    print('\\rEpisode {}\\Score: {:.2f}'.format(i_episode, agent_scores[-1]))"
   ]
  },
  {
   "cell_type": "code",
   "execution_count": null,
   "metadata": {},
   "outputs": [],
   "source": []
  }
 ],
 "metadata": {
  "kernelspec": {
   "display_name": "Python [conda env:udacity_drl]",
   "language": "python",
   "name": "conda-env-udacity_drl-py"
  },
  "language_info": {
   "codemirror_mode": {
    "name": "ipython",
    "version": 3
   },
   "file_extension": ".py",
   "mimetype": "text/x-python",
   "name": "python",
   "nbconvert_exporter": "python",
   "pygments_lexer": "ipython3",
   "version": "3.6.12"
  }
 },
 "nbformat": 4,
 "nbformat_minor": 2
}
